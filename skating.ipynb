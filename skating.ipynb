{
 "nbformat": 4,
 "nbformat_minor": 0,
 "metadata": {
  "colab": {
   "provenance": [],
   "authorship_tag": "ABX9TyMbjOD1l5GZO18vQ7Ul9AQ9"
  },
  "kernelspec": {
   "name": "python3",
   "display_name": "Python 3"
  },
  "language_info": {
   "name": "python"
  },
  "accelerator": "GPU",
  "gpuClass": "standard"
 },
 "cells": [
  {
   "cell_type": "markdown",
   "source": [
    "#Skating"
   ],
   "metadata": {
    "id": "7S2dAikwXS56"
   }
  },
  {
   "cell_type": "markdown",
   "source": [
    "## install pyskl "
   ],
   "metadata": {
    "id": "SHe6SmYXXW7I"
   }
  },
  {
   "cell_type": "code",
   "execution_count": null,
   "metadata": {
    "id": "7yFYeIp0XQ3e",
    "colab": {
     "base_uri": "https://localhost:8080/"
    },
    "executionInfo": {
     "status": "ok",
     "timestamp": 1669474775733,
     "user_tz": -480,
     "elapsed": 24900,
     "user": {
      "displayName": "lbaf23 lbaf23",
      "userId": "16707627672836514904"
     }
    },
    "outputId": "2643001c-531e-4934-c38c-c37b7fbd286c",
    "pycharm": {
     "is_executing": true
    }
   },
   "outputs": [],
   "source": [
    "!git clone https://github.com/lbaf23/skating-pyskl.git && \\\n",
    "    cd skating-pyskl && \\\n",
    "    pip install -r requirements.txt && \\\n",
    "    pip install -e ."
   ]
  },
  {
   "cell_type": "code",
   "source": [
    "!pip install imageio==2.4.1"
   ],
   "metadata": {
    "id": "tk6ckBK3Y-sE",
    "colab": {
     "base_uri": "https://localhost:8080/"
    },
    "executionInfo": {
     "status": "ok",
     "timestamp": 1669474780046,
     "user_tz": -480,
     "elapsed": 4320,
     "user": {
      "displayName": "lbaf23 lbaf23",
      "userId": "16707627672836514904"
     }
    },
    "outputId": "6433eb72-3154-4943-c5b2-b184b67b97b9",
    "pycharm": {
     "is_executing": true
    }
   },
   "execution_count": null,
   "outputs": []
  },
  {
   "cell_type": "markdown",
   "source": [
    "##load dataset\n",
    "> put `train_data.npy` and `test_data.npy` in your google drive dir `skating/`"
   ],
   "metadata": {
    "id": "1nl4wfcnXdjJ"
   }
  },
  {
   "cell_type": "code",
   "source": [
    "from google.colab import drive\n",
    "drive.mount('/content/drive')"
   ],
   "metadata": {
    "id": "BBghou01Xu7C",
    "colab": {
     "base_uri": "https://localhost:8080/"
    },
    "executionInfo": {
     "status": "ok",
     "timestamp": 1669474798299,
     "user_tz": -480,
     "elapsed": 18257,
     "user": {
      "displayName": "lbaf23 lbaf23",
      "userId": "16707627672836514904"
     }
    },
    "outputId": "cb4237ee-eefe-4123-b655-8dac4a552e60",
    "pycharm": {
     "is_executing": true
    }
   },
   "execution_count": null,
   "outputs": []
  },
  {
   "cell_type": "markdown",
   "source": [
    "### transfer dataset\n",
    "> generate .pkl file"
   ],
   "metadata": {
    "id": "ZIriYnKRX4b9"
   }
  },
  {
   "cell_type": "code",
   "source": [
    "import numpy as np\n",
    "import os\n",
    "\n",
    "\n",
    "def transfer_data(in_dir, out_dir):\n",
    "    data_dir = os.path.join(in_dir, 'train_data.npy')\n",
    "    label_dir = os.path.join(in_dir, 'train_label.npy')\n",
    "\n",
    "    data = np.load(data_dir)  # 2294 3 2500 25 1\n",
    "    label = np.load(label_dir, allow_pickle=True)  # 2294\n",
    "    ans = {'split': {}, 'annotations': []}\n",
    "    N, C, T, V, M = data.shape\n",
    "    sep = int(N * 0.9)\n",
    "    train = []\n",
    "    val = []\n",
    "    for i in range(0, N):\n",
    "        if i < sep:\n",
    "            train.append(str(i))\n",
    "        else:\n",
    "            val.append(str(i))\n",
    "    split = dict(\n",
    "        train=train,\n",
    "        val=val\n",
    "    )\n",
    "    for i in range(data.shape[0]):\n",
    "        frame = data[i]\n",
    "        frame = np.transpose(frame, (3, 1, 2, 0))\n",
    "        keypoint = frame[..., :2]\n",
    "        keypoint_score = frame[..., 2]\n",
    "        ans['annotations'].append({'frame_dir': str(i),\n",
    "                                   'label': label[i],\n",
    "                                   'img_shape': (1080, 720),\n",
    "                                   'original_shape': (1080, 720),\n",
    "                                   'total_frames': 2500,\n",
    "                                   'keypoint': keypoint,\n",
    "                                   'keypoint_score': keypoint_score})\n",
    "    ans['split'] = split\n",
    "    import pickle\n",
    "    with open(os.path.join(out_dir, 'train.pkl'), 'wb') as f:\n",
    "        pickle.dump(ans, f)"
   ],
   "metadata": {
    "id": "IMzJXBSgX2PN",
    "executionInfo": {
     "status": "ok",
     "timestamp": 1669474798299,
     "user_tz": -480,
     "elapsed": 4,
     "user": {
      "displayName": "lbaf23 lbaf23",
      "userId": "16707627672836514904"
     }
    }
   },
   "execution_count": 4,
   "outputs": []
  },
  {
   "cell_type": "code",
   "source": [
    "!mkdir skating-pyskl/data"
   ],
   "metadata": {
    "id": "c5z5bPCEcXY6",
    "executionInfo": {
     "status": "ok",
     "timestamp": 1669474798300,
     "user_tz": -480,
     "elapsed": 4,
     "user": {
      "displayName": "lbaf23 lbaf23",
      "userId": "16707627672836514904"
     }
    }
   },
   "execution_count": 5,
   "outputs": []
  },
  {
   "cell_type": "code",
   "source": [
    "transfer_data('drive/MyDrive/skating', 'skating-pyskl/data')"
   ],
   "metadata": {
    "id": "n6SJ2prsYGx6",
    "executionInfo": {
     "status": "ok",
     "timestamp": 1669474818529,
     "user_tz": -480,
     "elapsed": 20233,
     "user": {
      "displayName": "lbaf23 lbaf23",
      "userId": "16707627672836514904"
     }
    }
   },
   "execution_count": 6,
   "outputs": []
  },
  {
   "cell_type": "markdown",
   "source": [
    "## train"
   ],
   "metadata": {
    "id": "kPaExNpsYcQE"
   }
  },
  {
   "cell_type": "code",
   "execution_count": null,
   "outputs": [],
   "source": [
    "!cd skating-pyskl && \\\n",
    "    git pull"
   ],
   "metadata": {
    "collapsed": false
   }
  },
  {
   "cell_type": "code",
   "source": [
    "!cd skating-pyskl && \\\n",
    "    bash tools/dist_train.sh configs/stgcn/skating/b.py 1"
   ],
   "metadata": {
    "id": "iUtSwybYYeqp",
    "colab": {
     "base_uri": "https://localhost:8080/"
    },
    "executionInfo": {
     "status": "ok",
     "timestamp": 1669474863890,
     "user_tz": -480,
     "elapsed": 42290,
     "user": {
      "displayName": "lbaf23 lbaf23",
      "userId": "16707627672836514904"
     }
    },
    "outputId": "a9900f41-fd8a-4bff-bd69-644276dc91e4",
    "pycharm": {
     "is_executing": true
    }
   },
   "execution_count": null,
   "outputs": []
  }
 ]
}
