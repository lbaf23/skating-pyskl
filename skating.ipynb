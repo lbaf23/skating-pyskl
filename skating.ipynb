{
 "nbformat": 4,
 "nbformat_minor": 0,
 "metadata": {
  "colab": {
   "provenance": [],
   "authorship_tag": "ABX9TyMbjOD1l5GZO18vQ7Ul9AQ9"
  },
  "kernelspec": {
   "name": "python3",
   "display_name": "Python 3"
  },
  "language_info": {
   "name": "python"
  },
  "accelerator": "GPU",
  "gpuClass": "standard"
 },
 "cells": [
  {
   "cell_type": "markdown",
   "source": [
    "#Skating"
   ],
   "metadata": {
    "id": "7S2dAikwXS56"
   }
  },
  {
   "cell_type": "markdown",
   "source": [
    "## install pyskl "
   ],
   "metadata": {
    "id": "SHe6SmYXXW7I"
   }
  },
  {
   "cell_type": "code",
   "execution_count": null,
   "metadata": {
    "id": "7yFYeIp0XQ3e",
    "colab": {
     "base_uri": "https://localhost:8080/"
    },
    "executionInfo": {
     "status": "ok",
     "timestamp": 1669474775733,
     "user_tz": -480,
     "elapsed": 24900,
     "user": {
      "displayName": "lbaf23 lbaf23",
      "userId": "16707627672836514904"
     }
    },
    "outputId": "2643001c-531e-4934-c38c-c37b7fbd286c",
    "pycharm": {
     "is_executing": true
    }
   },
   "outputs": [],
   "source": [
    "!git clone https://github.com/lbaf23/skating-pyskl.git && \\\n",
    "    cd skating-pyskl && \\\n",
    "    pip install -r requirements.txt && \\\n",
    "    pip install -e ."
   ]
  },
  {
   "cell_type": "code",
   "source": [
    "!pip install imageio==2.4.1"
   ],
   "metadata": {
    "id": "tk6ckBK3Y-sE",
    "colab": {
     "base_uri": "https://localhost:8080/"
    },
    "executionInfo": {
     "status": "ok",
     "timestamp": 1669474780046,
     "user_tz": -480,
     "elapsed": 4320,
     "user": {
      "displayName": "lbaf23 lbaf23",
      "userId": "16707627672836514904"
     }
    },
    "outputId": "6433eb72-3154-4943-c5b2-b184b67b97b9",
    "pycharm": {
     "is_executing": true
    }
   },
   "execution_count": null,
   "outputs": []
  },
  {
   "cell_type": "markdown",
   "source": [
    "##load dataset\n",
    "> put `train.pkl` file at google drive dir `skating/`"
   ],
   "metadata": {
    "id": "1nl4wfcnXdjJ"
   }
  },
  {
   "cell_type": "code",
   "source": [
    "from google.colab import drive\n",
    "drive.mount('/content/drive')"
   ],
   "metadata": {
    "id": "BBghou01Xu7C",
    "colab": {
     "base_uri": "https://localhost:8080/"
    },
    "executionInfo": {
     "status": "ok",
     "timestamp": 1669474798299,
     "user_tz": -480,
     "elapsed": 18257,
     "user": {
      "displayName": "lbaf23 lbaf23",
      "userId": "16707627672836514904"
     }
    },
    "outputId": "cb4237ee-eefe-4123-b655-8dac4a552e60",
    "pycharm": {
     "is_executing": true
    }
   },
   "execution_count": null,
   "outputs": []
  },
  {
   "cell_type": "markdown",
   "source": [
    "## copy dataset"
   ],
   "metadata": {
    "collapsed": false
   }
  },
  {
   "cell_type": "code",
   "source": [
    "!mkdir skating-pyskl/data\n",
    "!cp drive/MyDrive/skating/train.pkl skating-pyskl/data"
   ],
   "metadata": {
    "id": "c5z5bPCEcXY6",
    "executionInfo": {
     "status": "ok",
     "timestamp": 1669474798300,
     "user_tz": -480,
     "elapsed": 4,
     "user": {
      "displayName": "lbaf23 lbaf23",
      "userId": "16707627672836514904"
     }
    }
   },
   "execution_count": 5,
   "outputs": []
  },
  {
   "cell_type": "markdown",
   "source": [
    "## train"
   ],
   "metadata": {
    "id": "kPaExNpsYcQE"
   }
  },
  {
   "cell_type": "code",
   "execution_count": null,
   "outputs": [],
   "source": [
    "!cd skating-pyskl && \\\n",
    "    git pull"
   ],
   "metadata": {
    "collapsed": false
   }
  },
  {
   "cell_type": "markdown",
   "source": [
    "joint"
   ],
   "metadata": {
    "collapsed": false
   }
  },
  {
   "cell_type": "code",
   "execution_count": null,
   "outputs": [],
   "source": [
    "!cd skating-pyskl && \\\n",
    "    bash tools/dist_train.sh configs/stgcn/skating/j.py 1"
   ],
   "metadata": {
    "collapsed": false
   }
  },
  {
   "cell_type": "markdown",
   "source": [
    "- bone"
   ],
   "metadata": {
    "collapsed": false
   }
  },
  {
   "cell_type": "code",
   "source": [
    "!cd skating-pyskl && \\\n",
    "    bash tools/dist_train.sh configs/stgcn/skating/b.py 1"
   ],
   "metadata": {
    "id": "iUtSwybYYeqp",
    "colab": {
     "base_uri": "https://localhost:8080/"
    },
    "executionInfo": {
     "status": "ok",
     "timestamp": 1669474863890,
     "user_tz": -480,
     "elapsed": 42290,
     "user": {
      "displayName": "lbaf23 lbaf23",
      "userId": "16707627672836514904"
     }
    },
    "outputId": "a9900f41-fd8a-4bff-bd69-644276dc91e4",
    "pycharm": {
     "is_executing": true
    }
   },
   "execution_count": null,
   "outputs": []
  }
 ]
}
